{
 "cells": [
  {
   "cell_type": "code",
   "execution_count": 1,
   "id": "471c8774",
   "metadata": {},
   "outputs": [],
   "source": [
    "import nltk\n",
    "from nltk.corpus import stopwords\n",
    "from nltk.cluster.util import cosine_distance\n",
    "import numpy as np\n",
    "import networkx as nx"
   ]
  },
  {
   "cell_type": "code",
   "execution_count": 2,
   "id": "20105aa7",
   "metadata": {},
   "outputs": [],
   "source": [
    "def read_para(file_name):\n",
    "    file = open(file_name, \"r\")\n",
    "    filedata = file.readlines()\n",
    "    article = filedata[0].split(\". \")\n",
    "    sentences = []\n",
    "    print(\"-\"*100+\"\\n\")\n",
    "    print(\"Actual Text :\\n\\n\\t\",filedata[0])\n",
    "    print(\"\\n\"+\"-\"*100+\"\\n\")\n",
    "    for sentence in article:\n",
    "        sentences.append(sentence.replace(\"[^a-zA-Z]\", \" \").split(\" \"))\n",
    "    sentences.pop() \n",
    "    return sentences"
   ]
  },
  {
   "cell_type": "code",
   "execution_count": 3,
   "id": "e202a1b0",
   "metadata": {},
   "outputs": [],
   "source": [
    "def similarity_in_sentences(sent1, sent2, stopwords=None):\n",
    "    if stopwords is None:\n",
    "        stopwords = []\n",
    " \n",
    "    sent1 = [w.lower() for w in sent1]\n",
    "    sent2 = [w.lower() for w in sent2]\n",
    " \n",
    "    all_words = list(set(sent1 + sent2))\n",
    " \n",
    "    vector1 = [0] * len(all_words)\n",
    "    vector2 = [0] * len(all_words)\n",
    "    for w in sent1:\n",
    "        if w in stopwords:\n",
    "            continue\n",
    "        vector1[all_words.index(w)] += 1\n",
    "    for w in sent2:\n",
    "        if w in stopwords:\n",
    "            continue\n",
    "        vector2[all_words.index(w)] += 1\n",
    "    return 1 - cosine_distance(vector1, vector2)"
   ]
  },
  {
   "cell_type": "code",
   "execution_count": 4,
   "id": "c7610f32",
   "metadata": {},
   "outputs": [],
   "source": [
    "def build_similarity_matrix(sentences, stop_words):\n",
    "    similarity_matrix = np.zeros((len(sentences), len(sentences)))\n",
    "    for w1 in range(len(sentences)):\n",
    "        for w2 in range(len(sentences)):\n",
    "            if w1 == w2: \n",
    "                continue \n",
    "            similarity_matrix[w1][w2] = similarity_in_sentences(sentences[w1], sentences[w2], stop_words)\n",
    "    return similarity_matrix"
   ]
  },
  {
   "cell_type": "code",
   "execution_count": 5,
   "id": "84c56027",
   "metadata": {
    "scrolled": true
   },
   "outputs": [
    {
     "name": "stderr",
     "output_type": "stream",
     "text": [
      "[nltk_data] Downloading package stopwords to C:\\Users\\DINESHKUMAR\n",
      "[nltk_data]     S\\AppData\\Roaming\\nltk_data...\n",
      "[nltk_data]   Package stopwords is already up-to-date!\n"
     ]
    },
    {
     "name": "stdout",
     "output_type": "stream",
     "text": [
      "----------------------------------------------------------------------------------------------------\n",
      "\n",
      "Actual Text :\n",
      "\n",
      "\t The Education of a child is one of the most important decisions a parent can make. While there are many different types of educational options available, not all are created equal. Children in India have the unique opportunity to receive a world-class education, thanks to the many excellent schools that are available. Since ancient times, India has been known for its great educational system. The country's first university, Nalanda, was founded over 1,000 years ago. Today, there are thousands of schools in India, many of which are among the best in the world. Indian Education is a term used to refer to the Education that is offered primarily to American Indian students. The Indian Education Act of 1972 defined its purpose as \"to meet the unique educational and culturally related academic needs of American Indian children.\" There are several similarities between mainstream education in America, also known as public schools, and Indian Education. Traditional public schools are subject to the same educational mandates as Indian schools overseen by the Bureau of Indian Affairs (BIA). Most incorporate a core set of subjects such as English, math, social studies, and science into their curriculum. The school year is roughly 180 days long, and students attend class 5 days a week for around 6 hours each day. Despite these similarities, there are also some key differences between mainstream education and Indian Education. Perhaps the most notable is that Indian Education is often delivered in a culturally relevant and inclusive manner, which takes into account the unique needs of Native American students. This can include incorporating tribal history and culture into the curriculum, providing Native American educators, and incorporating traditional tribal values and beliefs into the school environment. In addition, Indian Education is often offered on or near reservations, while mainstream Education is not. Education plays an important role in the development of an individual and makes him a knowledgeable citizen. It is the Education that makes an individual self-reliant, helps to suppress social evils, and contributes towards the development of the society and nation as a whole. Education helps in unraveling the mystery of nature. It enables us to understand and improve the working of our society. It creates conditions for a better life. Education brings out the capabilities to fight injustice happening in society. Every individual has the right to Education. Indian Education is one of the largest and complex education systems in the world along with China. India is committed to providing basic Education to its citizens, the framework of which is defined in the National Policy of Education. Elementary Education is now compulsory in India. At the time of Independence, only 14% of India's population was literate. Now after so many decades since Independence, the number of literates has increased by fivefold. The history of the Indian education system comes from the times of Ramayana and Mahabharata. The historic Indian education system is also called the Gurukula system. There were gurus then who are now known as teachers and shishyas who are called students now. The gurus and the shishyas lived together under one roof in Gurukula until the completion of their Education. The shishyas were expected to help the guru in all the daily chores as part of their learning. The children belonging to higher strata of the society were taught all the subjects from Sanskrit to Holy Scriptures and mathematics to metaphysics by the gurus. The Gurukulas during those times focused on the practical aspects of life. The students were taught in the open classroom in the surrounding area of nature. This early system of Education in India continued for many years until the modern education system came into the picture in the nineteenth century. In the early 19th century, during the British period, the modern education system was brought into our country by Lord Thomas Babington Macaulay. The basic strength of this modernized education system was the examinations and a well-defined curriculum, which gave importance to subjects like science and mathematics and subjects like philosophy, metaphysics were given a back seat. The brick and mortar classrooms replaced the open classrooms in the Gurukulas. The essence of the guru shishya bond was taken over by a more formal relationship between the teacher and the student. To understand the progress of any student, examinations were conducted at frequent intervals. The focus of the education system shifted from learning to memorizing the concepts to score good marks in the examinations. Over a period of time, it has been observed that there are many loopholes in the system of Education in India. Instead of understanding the concepts, students started cramming and memorizing the lessons. Knowledge is given a backseat and scoring in high rankings takes importance. Modern parents have tuned their mindsets accordingly, and their goal is to ensure that their children score good marks instead of acquiring knowledge right from the primary level. Private schools and colleges have been rapidly increasing in the country but the results produced by them are far beyond satisfactory. It has also been observed that the quality of teachers deteriorated with the passing of time. Our examination system is responsible for the wide skill gap. India is producing lakhs of engineers and professionals every year but only a fraction of this number is actually getting employed. This is because the Indian examination system focuses more on scoring good percentages rather than the actual continuous comprehensive evaluation. Research and development, which should be the cornerstone of our system, are given the least importance. The private schools and colleges focus on the admission of more students and are least interested in the quality of their Education. This is the major reason why the faculties and the teachers lack skills and specialization. This is quite evident from the fact that a single professor is assigned to teach multiple subjects. First and most importantly we should improve the grading system. Rote learning should be discouraged completely. Teachers and faculties should focus more on the analytical skills of the students and grade them accordingly. There should be more focus on comprehensive evaluation instead of scoring only good marks. Workshops must be organized for teachers on a regular basis to keep them updated about the latest developments in the sector of Education. At the same time, the curriculum should be reframed according to the present needs of Education in India. Indian Education is a unique and specialized Education system that is offered primarily to Indian students. It incorporates culturally relevant and inclusive elements not found in mainstream Education but is subject to many of the same mandates. The payroll structure of the teachers and the faculties, especially in the government institutions should be improved. This step will help in motivating the teachers to develop their skills and they will take a keen interest in grooming or shaping up a student's life and career. The government and other entities who are associated with the education sector, need to understand the importance of quality of Education. Education should be a holistic process that must focus on the overall development of the physical, emotional, social, and cognitive skills of a child. It needs to be a slow and cyclic process and must take place gradually to help the child develop into an autonomous, independent, and knowledgeable individual. An educated individual is an individual who should be able to contribute towards the betterment of the economic and social development of the society as well as the country. The true goal of Education must exceed awarding the degrees and certificates to the students. Education is not a tool to earn livelihood, but it is a way to liberate the mind and soul of an individual.\n",
      "\n",
      "----------------------------------------------------------------------------------------------------\n",
      "\n",
      "Indexes of Highly Ranked Sentence Order are : \n",
      "\n",
      "\t  [(0.035352429563916925, ['Indian', 'Education', 'is', 'a', 'unique', 'and', 'specialized', 'Education', 'system', 'that', 'is', 'offered', 'primarily', 'to', 'Indian', 'students']), (0.030961375344859075, ['This', 'early', 'system', 'of', 'Education', 'in', 'India', 'continued', 'for', 'many', 'years', 'until', 'the', 'modern', 'education', 'system', 'came', 'into', 'the', 'picture', 'in', 'the', 'nineteenth', 'century']), (0.0306827195481332, ['Indian', 'Education', 'is', 'a', 'term', 'used', 'to', 'refer', 'to', 'the', 'Education', 'that', 'is', 'offered', 'primarily', 'to', 'American', 'Indian', 'students']), (0.028602969361706122, ['Despite', 'these', 'similarities,', 'there', 'are', 'also', 'some', 'key', 'differences', 'between', 'mainstream', 'education', 'and', 'Indian', 'Education']), (0.028462859475718992, ['The', 'Indian', 'Education', 'Act', 'of', '1972', 'defined', 'its', 'purpose', 'as', '\"to', 'meet', 'the', 'unique', 'educational', 'and', 'culturally', 'related', 'academic', 'needs', 'of', 'American', 'Indian', 'children.\"', 'There', 'are', 'several', 'similarities', 'between', 'mainstream', 'education', 'in', 'America,', 'also', 'known', 'as', 'public', 'schools,', 'and', 'Indian', 'Education']), (0.028281167280714267, ['In', 'addition,', 'Indian', 'Education', 'is', 'often', 'offered', 'on', 'or', 'near', 'reservations,', 'while', 'mainstream', 'Education', 'is', 'not']), (0.027470148146861245, ['The', 'historic', 'Indian', 'education', 'system', 'is', 'also', 'called', 'the', 'Gurukula', 'system']), (0.02702538483373395, ['Indian', 'Education', 'is', 'one', 'of', 'the', 'largest', 'and', 'complex', 'education', 'systems', 'in', 'the', 'world', 'along', 'with', 'China']), (0.026994424283308227, ['The', 'government', 'and', 'other', 'entities', 'who', 'are', 'associated', 'with', 'the', 'education', 'sector,', 'need', 'to', 'understand', 'the', 'importance', 'of', 'quality', 'of', 'Education']), (0.026744855169845445, ['Over', 'a', 'period', 'of', 'time,', 'it', 'has', 'been', 'observed', 'that', 'there', 'are', 'many', 'loopholes', 'in', 'the', 'system', 'of', 'Education', 'in', 'India']), (0.025975755157560752, ['The', 'history', 'of', 'the', 'Indian', 'education', 'system', 'comes', 'from', 'the', 'times', 'of', 'Ramayana', 'and', 'Mahabharata']), (0.025563771363024047, ['The', 'focus', 'of', 'the', 'education', 'system', 'shifted', 'from', 'learning', 'to', 'memorizing', 'the', 'concepts', 'to', 'score', 'good', 'marks', 'in', 'the', 'examinations']), (0.02476353592512829, ['India', 'is', 'committed', 'to', 'providing', 'basic', 'Education', 'to', 'its', 'citizens,', 'the', 'framework', 'of', 'which', 'is', 'defined', 'in', 'the', 'National', 'Policy', 'of', 'Education']), (0.023859284553739542, ['Every', 'individual', 'has', 'the', 'right', 'to', 'Education']), (0.023789219092947903, ['The', 'private', 'schools', 'and', 'colleges', 'focus', 'on', 'the', 'admission', 'of', 'more', 'students', 'and', 'are', 'least', 'interested', 'in', 'the', 'quality', 'of', 'their', 'Education']), (0.023709910612419928, ['Elementary', 'Education', 'is', 'now', 'compulsory', 'in', 'India']), (0.020605064388188734, ['Perhaps', 'the', 'most', 'notable', 'is', 'that', 'Indian', 'Education', 'is', 'often', 'delivered', 'in', 'a', 'culturally', 'relevant', 'and', 'inclusive', 'manner,', 'which', 'takes', 'into', 'account', 'the', 'unique', 'needs', 'of', 'Native', 'American', 'students']), (0.019709654483589578, ['At', 'the', 'same', 'time,', 'the', 'curriculum', 'should', 'be', 'reframed', 'according', 'to', 'the', 'present', 'needs', 'of', 'Education', 'in', 'India']), (0.019550562342947837, ['The', 'true', 'goal', 'of', 'Education', 'must', 'exceed', 'awarding', 'the', 'degrees', 'and', 'certificates', 'to', 'the', 'students']), (0.01940453574991552, ['The', 'basic', 'strength', 'of', 'this', 'modernized', 'education', 'system', 'was', 'the', 'examinations', 'and', 'a', 'well-defined', 'curriculum,', 'which', 'gave', 'importance', 'to', 'subjects', 'like', 'science', 'and', 'mathematics', 'and', 'subjects', 'like', 'philosophy,', 'metaphysics', 'were', 'given', 'a', 'back', 'seat']), (0.01933073207784808, ['Education', 'helps', 'in', 'unraveling', 'the', 'mystery', 'of', 'nature']), (0.01812369907004947, ['Education', 'plays', 'an', 'important', 'role', 'in', 'the', 'development', 'of', 'an', 'individual', 'and', 'makes', 'him', 'a', 'knowledgeable', 'citizen']), (0.01797315599270215, ['Education', 'should', 'be', 'a', 'holistic', 'process', 'that', 'must', 'focus', 'on', 'the', 'overall', 'development', 'of', 'the', 'physical,', 'emotional,', 'social,', 'and', 'cognitive', 'skills', 'of', 'a', 'child']), (0.017926248894072454, ['The', 'gurus', 'and', 'the', 'shishyas', 'lived', 'together', 'under', 'one', 'roof', 'in', 'Gurukula', 'until', 'the', 'completion', 'of', 'their', 'Education']), (0.017881898668947658, ['Education', 'brings', 'out', 'the', 'capabilities', 'to', 'fight', 'injustice', 'happening', 'in', 'society']), (0.01772461783262502, ['It', 'is', 'the', 'Education', 'that', 'makes', 'an', 'individual', 'self-reliant,', 'helps', 'to', 'suppress', 'social', 'evils,', 'and', 'contributes', 'towards', 'the', 'development', 'of', 'the', 'society', 'and', 'nation', 'as', 'a', 'whole']), (0.017669328999717453, ['It', 'incorporates', 'culturally', 'relevant', 'and', 'inclusive', 'elements', 'not', 'found', 'in', 'mainstream', 'Education', 'but', 'is', 'subject', 'to', 'many', 'of', 'the', 'same', 'mandates']), (0.017570368394356897, ['The', 'Education', 'of', 'a', 'child', 'is', 'one', 'of', 'the', 'most', 'important', 'decisions', 'a', 'parent', 'can', 'make']), (0.017014110818277008, ['In', 'the', 'early', '19th', 'century,', 'during', 'the', 'British', 'period,', 'the', 'modern', 'education', 'system', 'was', 'brought', 'into', 'our', 'country', 'by', 'Lord', 'Thomas', 'Babington', 'Macaulay']), (0.01682726772326661, ['Workshops', 'must', 'be', 'organized', 'for', 'teachers', 'on', 'a', 'regular', 'basis', 'to', 'keep', 'them', 'updated', 'about', 'the', 'latest', 'developments', 'in', 'the', 'sector', 'of', 'Education']), (0.015195494689876432, ['There', 'were', 'gurus', 'then', 'who', 'are', 'now', 'known', 'as', 'teachers', 'and', 'shishyas', 'who', 'are', 'called', 'students', 'now']), (0.014347660408202668, ['Teachers', 'and', 'faculties', 'should', 'focus', 'more', 'on', 'the', 'analytical', 'skills', 'of', 'the', 'students', 'and', 'grade', 'them', 'accordingly']), (0.013280553490822125, ['This', 'is', 'because', 'the', 'Indian', 'examination', 'system', 'focuses', 'more', 'on', 'scoring', 'good', 'percentages', 'rather', 'than', 'the', 'actual', 'continuous', 'comprehensive', 'evaluation']), (0.012502494425141756, ['Since', 'ancient', 'times,', 'India', 'has', 'been', 'known', 'for', 'its', 'great', 'educational', 'system']), (0.01204736265992654, ['Traditional', 'public', 'schools', 'are', 'subject', 'to', 'the', 'same', 'educational', 'mandates', 'as', 'Indian', 'schools', 'overseen', 'by', 'the', 'Bureau', 'of', 'Indian', 'Affairs', '(BIA)']), (0.011290869560239074, ['This', 'step', 'will', 'help', 'in', 'motivating', 'the', 'teachers', 'to', 'develop', 'their', 'skills', 'and', 'they', 'will', 'take', 'a', 'keen', 'interest', 'in', 'grooming', 'or', 'shaping', 'up', 'a', \"student's\", 'life', 'and', 'career']), (0.010762244407323821, ['First', 'and', 'most', 'importantly', 'we', 'should', 'improve', 'the', 'grading', 'system']), (0.010127077046762538, ['Children', 'in', 'India', 'have', 'the', 'unique', 'opportunity', 'to', 'receive', 'a', 'world-class', 'education,', 'thanks', 'to', 'the', 'many', 'excellent', 'schools', 'that', 'are', 'available']), (0.009910392830874018, ['It', 'has', 'also', 'been', 'observed', 'that', 'the', 'quality', 'of', 'teachers', 'deteriorated', 'with', 'the', 'passing', 'of', 'time']), (0.009408670976966078, ['The', 'shishyas', 'were', 'expected', 'to', 'help', 'the', 'guru', 'in', 'all', 'the', 'daily', 'chores', 'as', 'part', 'of', 'their', 'learning']), (0.009247204397855454, ['The', 'students', 'were', 'taught', 'in', 'the', 'open', 'classroom', 'in', 'the', 'surrounding', 'area', 'of', 'nature']), (0.009148162628952636, ['There', 'should', 'be', 'more', 'focus', 'on', 'comprehensive', 'evaluation', 'instead', 'of', 'scoring', 'only', 'good', 'marks']), (0.008522245845183216, ['An', 'educated', 'individual', 'is', 'an', 'individual', 'who', 'should', 'be', 'able', 'to', 'contribute', 'towards', 'the', 'betterment', 'of', 'the', 'economic', 'and', 'social', 'development', 'of', 'the', 'society', 'as', 'well', 'as', 'the', 'country']), (0.008420394358983486, ['This', 'is', 'the', 'major', 'reason', 'why', 'the', 'faculties', 'and', 'the', 'teachers', 'lack', 'skills', 'and', 'specialization']), (0.008313100863267604, ['It', 'needs', 'to', 'be', 'a', 'slow', 'and', 'cyclic', 'process', 'and', 'must', 'take', 'place', 'gradually', 'to', 'help', 'the', 'child', 'develop', 'into', 'an', 'autonomous,', 'independent,', 'and', 'knowledgeable', 'individual']), (0.008154490797331791, ['The', 'children', 'belonging', 'to', 'higher', 'strata', 'of', 'the', 'society', 'were', 'taught', 'all', 'the', 'subjects', 'from', 'Sanskrit', 'to', 'Holy', 'Scriptures', 'and', 'mathematics', 'to', 'metaphysics', 'by', 'the', 'gurus']), (0.008079837711406366, ['The', 'Gurukulas', 'during', 'those', 'times', 'focused', 'on', 'the', 'practical', 'aspects', 'of', 'life']), (0.008037568104338989, ['Our', 'examination', 'system', 'is', 'responsible', 'for', 'the', 'wide', 'skill', 'gap']), (0.00760541893907332, ['Instead', 'of', 'understanding', 'the', 'concepts,', 'students', 'started', 'cramming', 'and', 'memorizing', 'the', 'lessons']), (0.007412572799885265, ['Now', 'after', 'so', 'many', 'decades', 'since', 'Independence,', 'the', 'number', 'of', 'literates', 'has', 'increased', 'by', 'fivefold']), (0.007323922675221901, ['Today,', 'there', 'are', 'thousands', 'of', 'schools', 'in', 'India,', 'many', 'of', 'which', 'are', 'among', 'the', 'best', 'in', 'the', 'world']), (0.0070689352040928174, ['Modern', 'parents', 'have', 'tuned', 'their', 'mindsets', 'accordingly,', 'and', 'their', 'goal', 'is', 'to', 'ensure', 'that', 'their', 'children', 'score', 'good', 'marks', 'instead', 'of', 'acquiring', 'knowledge', 'right', 'from', 'the', 'primary', 'level']), (0.0064794742263360044, ['Knowledge', 'is', 'given', 'a', 'backseat', 'and', 'scoring', 'in', 'high', 'rankings', 'takes', 'importance']), (0.006443110706760766, ['It', 'enables', 'us', 'to', 'understand', 'and', 'improve', 'the', 'working', 'of', 'our', 'society']), (0.006177992594835015, ['The', 'payroll', 'structure', 'of', 'the', 'teachers', 'and', 'the', 'faculties,', 'especially', 'in', 'the', 'government', 'institutions', 'should', 'be', 'improved']), (0.005889170383608593, ['While', 'there', 'are', 'many', 'different', 'types', 'of', 'educational', 'options', 'available,', 'not', 'all', 'are', 'created', 'equal']), (0.005855712726834543, ['India', 'is', 'producing', 'lakhs', 'of', 'engineers', 'and', 'professionals', 'every', 'year', 'but', 'only', 'a', 'fraction', 'of', 'this', 'number', 'is', 'actually', 'getting', 'employed']), (0.005604869139300346, ['The', 'school', 'year', 'is', 'roughly', '180', 'days', 'long,', 'and', 'students', 'attend', 'class', '5', 'days', 'a', 'week', 'for', 'around', '6', 'hours', 'each', 'day']), (0.005427098168823677, ['It', 'creates', 'conditions', 'for', 'a', 'better', 'life']), (0.005411092957362332, ['Most', 'incorporate', 'a', 'core', 'set', 'of', 'subjects', 'such', 'as', 'English,', 'math,', 'social', 'studies,', 'and', 'science', 'into', 'their', 'curriculum']), (0.005144515102774808, ['Private', 'schools', 'and', 'colleges', 'have', 'been', 'rapidly', 'increasing', 'in', 'the', 'country', 'but', 'the', 'results', 'produced', 'by', 'them', 'are', 'far', 'beyond', 'satisfactory']), (0.005070083947242322, ['Research', 'and', 'development,', 'which', 'should', 'be', 'the', 'cornerstone', 'of', 'our', 'system,', 'are', 'given', 'the', 'least', 'importance']), (0.00440236157484747, ['The', 'brick', 'and', 'mortar', 'classrooms', 'replaced', 'the', 'open', 'classrooms', 'in', 'the', 'Gurukulas']), (0.004335798675066062, ['Rote', 'learning', 'should', 'be', 'discouraged', 'completely']), (0.00407312252914056, ['To', 'understand', 'the', 'progress', 'of', 'any', 'student,', 'examinations', 'were', 'conducted', 'at', 'frequent', 'intervals']), (0.003910410124114945, ['This', 'is', 'quite', 'evident', 'from', 'the', 'fact', 'that', 'a', 'single', 'professor', 'is', 'assigned', 'to', 'teach', 'multiple', 'subjects']), (0.0038391644296613125, ['At', 'the', 'time', 'of', 'Independence,', 'only', '14%', 'of', \"India's\", 'population', 'was', 'literate']), (0.0038318849095222863, ['This', 'can', 'include', 'incorporating', 'tribal', 'history', 'and', 'culture', 'into', 'the', 'curriculum,', 'providing', 'Native', 'American', 'educators,', 'and', 'incorporating', 'traditional', 'tribal', 'values', 'and', 'beliefs', 'into', 'the', 'school', 'environment']), (0.0032528470592147222, ['The', 'essence', 'of', 'the', 'guru', 'shishya', 'bond', 'was', 'taken', 'over', 'by', 'a', 'more', 'formal', 'relationship', 'between', 'the', 'teacher', 'and', 'the', 'student']), (0.0030935607727041368, ['The', \"country's\", 'first', 'university,', 'Nalanda,', 'was', 'founded', 'over', '1,000', 'years', 'ago'])]\n",
      "\n",
      "----------------------------------------------------------------------------------------------------\n",
      "\n",
      "Summarized Text: \n",
      "\n",
      " Indian Education is a unique and specialized Education system that is offered primarily to Indian students. This early system of Education in India continued for many years until the modern education system came into the picture in the nineteenth century. Indian Education is a term used to refer to the Education that is offered primarily to American Indian students. Despite these similarities, there are also some key differences between mainstream education and Indian Education. The Indian Education Act of 1972 defined its purpose as \"to meet the unique educational and culturally related academic needs of American Indian children.\" There are several similarities between mainstream education in America, also known as public schools, and Indian Education. In addition, Indian Education is often offered on or near reservations, while mainstream Education is not. The historic Indian education system is also called the Gurukula system. Indian Education is one of the largest and complex education systems in the world along with China. The government and other entities who are associated with the education sector, need to understand the importance of quality of Education. Over a period of time, it has been observed that there are many loopholes in the system of Education in India\n",
      "\n",
      "----------------------------------------------------------------------------------------------------\n",
      "\n"
     ]
    }
   ],
   "source": [
    "def summary(txt, top_n=5):\n",
    "    nltk.download(\"stopwords\")\n",
    "    stop_words = stopwords.words('english')\n",
    "    summarized_text = []\n",
    "    sentences =  read_para(txt)\n",
    "    sentence_similarity_martix = build_similarity_matrix(sentences, stop_words)\n",
    "    sentence_similarity_graph = nx.from_numpy_array(sentence_similarity_martix)\n",
    "    scores = nx.pagerank(sentence_similarity_graph)\n",
    "    ranked_sentence = sorted(((scores[i],s) for i,s in enumerate(sentences)), reverse=True)    \n",
    "    print(\"Indexes of Highly Ranked Sentence Order are : \\n\\n\\t \", ranked_sentence)    \n",
    "    for i in range(top_n):\n",
    "        summarized_text.append(\" \".join(ranked_sentence[i][1]))\n",
    "    print(\"\\n\"+\"-\"*100+\"\\n\")\n",
    "    print(\"Summarized Text: \\n\\n\", \". \".join(summarized_text))\n",
    "    print(\"\\n\"+\"-\"*100+\"\\n\")\n",
    "summary(\"article.txt\", 10)"
   ]
  },
  {
   "cell_type": "code",
   "execution_count": null,
   "id": "223f5a87",
   "metadata": {},
   "outputs": [],
   "source": []
  },
  {
   "cell_type": "code",
   "execution_count": null,
   "id": "41b8b007",
   "metadata": {},
   "outputs": [],
   "source": []
  },
  {
   "cell_type": "code",
   "execution_count": null,
   "id": "1774d63d",
   "metadata": {},
   "outputs": [],
   "source": []
  }
 ],
 "metadata": {
  "kernelspec": {
   "display_name": "Python 3 (ipykernel)",
   "language": "python",
   "name": "python3"
  },
  "language_info": {
   "codemirror_mode": {
    "name": "ipython",
    "version": 3
   },
   "file_extension": ".py",
   "mimetype": "text/x-python",
   "name": "python",
   "nbconvert_exporter": "python",
   "pygments_lexer": "ipython3",
   "version": "3.9.16"
  }
 },
 "nbformat": 4,
 "nbformat_minor": 5
}
